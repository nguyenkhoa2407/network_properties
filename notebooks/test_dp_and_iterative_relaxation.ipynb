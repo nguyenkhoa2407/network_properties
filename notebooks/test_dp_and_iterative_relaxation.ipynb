{
 "cells": [
  {
   "cell_type": "code",
   "execution_count": 3,
   "id": "30d07c35",
   "metadata": {},
   "outputs": [],
   "source": [
    "import torch\n",
    "import copy\n",
    "import numpy as np\n",
    "from torch import nn\n",
    "\n",
    "import sys\n",
    "sys.path.append('.')\n",
    "sys.path.append('..')\n",
    "\n",
    "from algorithms.iterative_relaxation import IterativeRelaxation\n",
    "from algorithms.decision_procedure import MarabouCoreDP\n",
    "\n",
    "from models.test_models import ProphecyPaperNetwork, TestModel\n",
    "from models.utils import attach_relu_activation_hook, attach_layer_output_hook, get_layers_info\n",
    "from models.utils import turn_bool_activation_to_str"
   ]
  },
  {
   "cell_type": "markdown",
   "id": "43866571",
   "metadata": {},
   "source": [
    "### Test Improved DP"
   ]
  },
  {
   "cell_type": "code",
   "execution_count": 4,
   "id": "3f0a7051",
   "metadata": {},
   "outputs": [],
   "source": [
    "improved_dp = MarabouCoreDP()\n",
    "prophecy_model = ProphecyPaperNetwork()"
   ]
  },
  {
   "cell_type": "code",
   "execution_count": 5,
   "id": "efbd97af",
   "metadata": {},
   "outputs": [
    {
     "data": {
      "text/plain": [
       "[{'name': 'model_input', 'in_features': 2, 'out_features': 2, 'layer': None},\n",
       " {'name': 'sequential_stack.0',\n",
       "  'in_features': 2,\n",
       "  'out_features': 5,\n",
       "  'layer': Linear(in_features=2, out_features=5, bias=False)},\n",
       " {'name': 'sequential_stack.1',\n",
       "  'in_features': 5,\n",
       "  'out_features': 5,\n",
       "  'layer': ReLU()},\n",
       " {'name': 'sequential_stack.2',\n",
       "  'in_features': 5,\n",
       "  'out_features': 3,\n",
       "  'layer': Linear(in_features=5, out_features=3, bias=False)},\n",
       " {'name': 'sequential_stack.3',\n",
       "  'in_features': 3,\n",
       "  'out_features': 3,\n",
       "  'layer': ReLU()},\n",
       " {'name': 'final_output',\n",
       "  'in_features': 3,\n",
       "  'out_features': 2,\n",
       "  'layer': Linear(in_features=3, out_features=2, bias=False)}]"
      ]
     },
     "execution_count": 5,
     "metadata": {},
     "output_type": "execute_result"
    }
   ],
   "source": [
    "get_layers_info(TestModel())"
   ]
  },
  {
   "cell_type": "code",
   "execution_count": 8,
   "id": "328274eb",
   "metadata": {},
   "outputs": [
    {
     "name": "stdout",
     "output_type": "stream",
     "text": [
      "Initiating input query...\n"
     ]
    },
    {
     "data": {
      "text/plain": [
       "['unsat',\n",
       " {},\n",
       " <maraboupy.MarabouCore.Statistics at 0x2a8623730>,\n",
       " <maraboupy.MarabouCore.InputQuery at 0x2a843b730>]"
      ]
     },
     "execution_count": 8,
     "metadata": {},
     "output_type": "execute_result"
    }
   ],
   "source": [
    "activation = {\n",
    "  'linear_relu_stack.1': ['ON', 'OFF'], \n",
    "  'linear_relu_stack.3': ['ON', 'OFF'],\n",
    "}\n",
    "input_ranges = [[-100, 100], [-100, 100]]\n",
    "specification = [(np.array([[1, -1]]), np.array([0]))] # class = y1\n",
    "# specification = [(np.array([[-1, 1]]), np.array([0]))] # class = y2\n",
    "improved_dp.solve(activation, prophecy_model, input_ranges, specification)"
   ]
  },
  {
   "cell_type": "code",
   "execution_count": 9,
   "id": "81fc47f5",
   "metadata": {},
   "outputs": [
    {
     "name": "stdout",
     "output_type": "stream",
     "text": [
      "Initiating input query...\n"
     ]
    },
    {
     "data": {
      "text/plain": [
       "['unsat',\n",
       " {},\n",
       " <maraboupy.MarabouCore.Statistics at 0x2a8620670>,\n",
       " <maraboupy.MarabouCore.InputQuery at 0x2a8452970>]"
      ]
     },
     "execution_count": 9,
     "metadata": {},
     "output_type": "execute_result"
    }
   ],
   "source": [
    "activation = {\n",
    "  'linear_relu_stack.1': ['ON', 'OFF'], \n",
    "  'linear_relu_stack.3': ['--', '--'],\n",
    "}\n",
    "input_ranges = [[-100, 100], [-100, 100]]\n",
    "specification = [(np.array([[1, -1]]), np.array([0]))] # class = y1\n",
    "# specification = [(np.array([[-1, 1]]), np.array([0]))] # class = y2\n",
    "improved_dp.solve(activation, prophecy_model, input_ranges, specification)"
   ]
  },
  {
   "cell_type": "code",
   "execution_count": 10,
   "id": "877c2554",
   "metadata": {},
   "outputs": [
    {
     "name": "stdout",
     "output_type": "stream",
     "text": [
      "Initiating input query...\n"
     ]
    },
    {
     "data": {
      "text/plain": [
       "['sat',\n",
       " {0: -49.999999,\n",
       "  1: -50.000001,\n",
       "  2: 1.9999999949504854e-06,\n",
       "  3: -100.0,\n",
       "  4: 1.9999999949504854e-06,\n",
       "  5: 0.0,\n",
       "  6: 9.999999974752427e-07,\n",
       "  7: -9.999999974752427e-07,\n",
       "  8: 9.999999974752427e-07,\n",
       "  9: 9.999999974752427e-07,\n",
       "  10: -0.0,\n",
       "  11: -0.0},\n",
       " <maraboupy.MarabouCore.Statistics at 0x12dcc2c70>,\n",
       " <maraboupy.MarabouCore.InputQuery at 0x2a84235f0>]"
      ]
     },
     "execution_count": 10,
     "metadata": {},
     "output_type": "execute_result"
    }
   ],
   "source": [
    "activation = {\n",
    "  'linear_relu_stack.1': ['--', '--'], \n",
    "  'linear_relu_stack.3': ['ON', '--'],\n",
    "}\n",
    "input_ranges = [[-100, 100], [-100, 100]]\n",
    "specification = [(np.array([[1, -1]]), np.array([0]))]\n",
    "# specification = [(np.array([[-1, 1]]), np.array([0]))] # class = y2\n",
    "improved_dp.solve(activation, prophecy_model, input_ranges, specification)"
   ]
  },
  {
   "cell_type": "markdown",
   "id": "1d48f636",
   "metadata": {},
   "source": [
    "### Test Iterative Relaxation"
   ]
  },
  {
   "cell_type": "code",
   "execution_count": 11,
   "id": "5598f6a0",
   "metadata": {},
   "outputs": [
    {
     "name": "stdout",
     "output_type": "stream",
     "text": [
      "Initiating input query...\n",
      "unconstrained_layer: linear_relu_stack.3\n",
      "{'linear_relu_stack.1': ['ON', 'OFF'], 'linear_relu_stack.3': ['--', '--']}\n",
      "Initiating input query...\n",
      "unconstrained_layer: linear_relu_stack.1\n",
      "{'linear_relu_stack.1': ['--', '--'], 'linear_relu_stack.3': ['--', '--']}\n",
      "Initiating input query...\n",
      "Critical layer found: 0\n",
      "--- unconstraining neuron 0 in critical layer\n",
      "Initiating input query...\n",
      "--- neuron needed\n",
      "--- unconstraining neuron 1 in critical layer\n",
      "Initiating input query...\n",
      "--- neuron needed\n",
      "input property: [{'linear_relu_stack.1': ['ON', 'OFF'], 'linear_relu_stack.3': ['--', '--']}]\n"
     ]
    }
   ],
   "source": [
    "ir_model = ProphecyPaperNetwork()\n",
    "iterative_relaxation = IterativeRelaxation()\n",
    "\n",
    "input_data = [[1, -1]]\n",
    "input_ranges = [[-100, 100], [-100, 100]]\n",
    "specification = [(np.array([[1, -1]]), np.array([0]))] # class = y1\n",
    "# specification = [(np.array([[-1, 1]]), np.array([0]))] # class = y2\n",
    "\n",
    "input_property = iterative_relaxation.call(ir_model, input_data, input_ranges, specification)\n",
    "print(f\"input property: {input_property}\")"
   ]
  },
  {
   "cell_type": "code",
   "execution_count": 12,
   "id": "bce4f769",
   "metadata": {},
   "outputs": [
    {
     "name": "stdout",
     "output_type": "stream",
     "text": [
      "Initiating input query...\n",
      "input property: [{'linear_relu_stack.1': ['ON', 'OFF'], 'linear_relu_stack.3': ['ON', 'OFF']}, [(array([[-1,  1]]), array([0]))]]\n"
     ]
    }
   ],
   "source": [
    "ir_model = ProphecyPaperNetwork()\n",
    "iterative_relaxation = IterativeRelaxation()\n",
    "\n",
    "input_data = [[1, -1]]\n",
    "input_ranges = [[-100, 100], [-100, 100]]\n",
    "specification = [(np.array([[-1, 1]]), np.array([0]))] # class = y2\n",
    "\n",
    "input_property = iterative_relaxation.call(ir_model, input_data, input_ranges, specification)\n",
    "print(f\"input property: {input_property}\")"
   ]
  },
  {
   "cell_type": "markdown",
   "id": "10e6d64c",
   "metadata": {},
   "source": [
    "### Misc"
   ]
  },
  {
   "cell_type": "code",
   "execution_count": null,
   "id": "6fea305a",
   "metadata": {},
   "outputs": [],
   "source": [
    "# model = ProphecyPaperNetwork()\n",
    "# _act_handles, activation_signature = attach_relu_activation_hook(model)\n",
    "# _out_handles, layer_outputs = attach_layer_output_hook(model)\n",
    "\n",
    "# # input_data = [[-1,3]]\n",
    "# input_data = [[1, -1]]\n",
    "# # input_data = [[-10, -0]]\n",
    "\n",
    "# X = torch.tensor(input_data, dtype=torch.float)\n",
    "# logits = model(X)\n",
    "# prediction_prob = nn.Softmax(dim=1)(logits)\n",
    "# y_pred = prediction_prob.argmax(1)\n",
    "\n",
    "# activation_signature = turn_bool_activation_to_str(activation_signature)\n",
    "\n",
    "# print(f\"Predicted class: {y_pred}\")\n",
    "# print(f\"Activation: {activation_signature}\")\n",
    "# print(f\"Layer outputs: {layer_outputs}\")"
   ]
  },
  {
   "cell_type": "code",
   "execution_count": null,
   "id": "3ca738e7",
   "metadata": {},
   "outputs": [],
   "source": []
  }
 ],
 "metadata": {
  "kernelspec": {
   "display_name": "Python 3 (ipykernel)",
   "language": "python",
   "name": "python3"
  },
  "language_info": {
   "codemirror_mode": {
    "name": "ipython",
    "version": 3
   },
   "file_extension": ".py",
   "mimetype": "text/x-python",
   "name": "python",
   "nbconvert_exporter": "python",
   "pygments_lexer": "ipython3",
   "version": "3.10.9"
  }
 },
 "nbformat": 4,
 "nbformat_minor": 5
}
