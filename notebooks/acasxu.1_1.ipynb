{
 "cells": [
  {
   "cell_type": "code",
   "execution_count": 1,
   "id": "c4727311",
   "metadata": {},
   "outputs": [
    {
     "name": "stdout",
     "output_type": "stream",
     "text": [
      "WARNING:tensorflow:From /Users/khoanguyen-cp/anaconda3/lib/python3.10/site-packages/tensorflow/python/compat/v2_compat.py:107: disable_resource_variables (from tensorflow.python.ops.variable_scope) is deprecated and will be removed in a future version.\n",
      "Instructions for updating:\n",
      "non-resource variables are not supported in the long term\n"
     ]
    }
   ],
   "source": [
    "import onnx\n",
    "import torch\n",
    "import numpy as np\n",
    "import pandas as pd  \n",
    "import copy\n",
    "import pprint\n",
    "import json\n",
    "\n",
    "from onnx2pytorch import ConvertModel\n",
    "from torch import nn\n",
    "\n",
    "import sys\n",
    "sys.path.append('/Users/khoanguyen-cp/gmu/network_properties')\n",
    "\n",
    "from algorithms.iterative_relaxation import IterativeRelaxation\n",
    "from algorithms.decision_procedure import MarabouCoreDP\n",
    "from algorithms.decision_tree import DecisionTree\n",
    "\n",
    "from models.test_models import ProphecyPaperNetwork, TestModel\n",
    "from models.acasxu_1_1 import Acasxu1_1\n",
    "from models.utils import attach_relu_activation_hook, attach_layer_output_hook, get_layers_info\n",
    "from models.utils import turn_bool_activation_to_int, turn_bool_activation_to_str\n",
    "\n",
    "\n",
    "torch.set_printoptions(precision=8) "
   ]
  },
  {
   "cell_type": "code",
   "execution_count": 2,
   "id": "ecca288d",
   "metadata": {},
   "outputs": [],
   "source": [
    "model = Acasxu1_1()\n",
    "model.load_state_dict(torch.load('./models/acasxu_1_1.pt'))\n",
    "_act_handles, activation_signature = attach_relu_activation_hook(model)"
   ]
  },
  {
   "cell_type": "code",
   "execution_count": 3,
   "id": "0064a254",
   "metadata": {},
   "outputs": [
    {
     "data": {
      "text/plain": [
       "Acasxu1_1(\n",
       "  (fc0): Linear(in_features=5, out_features=50, bias=True)\n",
       "  (relu0): ReLU()\n",
       "  (fc1): Linear(in_features=50, out_features=50, bias=True)\n",
       "  (relu1): ReLU()\n",
       "  (fc2): Linear(in_features=50, out_features=50, bias=True)\n",
       "  (relu2): ReLU()\n",
       "  (fc3): Linear(in_features=50, out_features=50, bias=True)\n",
       "  (relu3): ReLU()\n",
       "  (fc4): Linear(in_features=50, out_features=50, bias=True)\n",
       "  (relu4): ReLU()\n",
       "  (fc5): Linear(in_features=50, out_features=50, bias=True)\n",
       "  (relu5): ReLU()\n",
       "  (output_layer): Linear(in_features=50, out_features=5, bias=True)\n",
       ")"
      ]
     },
     "execution_count": 3,
     "metadata": {},
     "output_type": "execute_result"
    }
   ],
   "source": [
    "model"
   ]
  },
  {
   "cell_type": "code",
   "execution_count": 4,
   "id": "9037f7b9",
   "metadata": {},
   "outputs": [
    {
     "name": "stdout",
     "output_type": "stream",
     "text": [
      "5 inputs and 5 outputs in vnnlib\n",
      "[[0.6, 0.679857769], [-0.5, 0.5], [-0.5, 0.5], [0.45, 0.5], [-0.5, -0.45]]\n",
      "[(array([[-1.,  0.,  0.,  0.,  0.]]), array([-3.99112565]))]\n"
     ]
    }
   ],
   "source": [
    "from network_properties.read_vnnlib import read_vnnlib\n",
    "from pathlib import Path\n",
    "vnnlib_path = Path(\"./network_properties/prop_1.vnnlib\") # acasxu\n",
    "# vnnlib_path = Path(\"./network_properties/prop_0_0.03.vnnlib\") # MNIST\n",
    "\n",
    "input_ranges, specifications = read_vnnlib(vnnlib_path)[0]\n",
    "print(input_ranges)\n",
    "print(specifications)"
   ]
  },
  {
   "cell_type": "markdown",
   "id": "8999aaed",
   "metadata": {},
   "source": [
    "## Test input property"
   ]
  },
  {
   "cell_type": "code",
   "execution_count": 5,
   "id": "8b8e281a",
   "metadata": {},
   "outputs": [],
   "source": [
    "_act_handles, activation_signature = attach_relu_activation_hook(model)"
   ]
  },
  {
   "cell_type": "code",
   "execution_count": 6,
   "id": "e7bda507",
   "metadata": {},
   "outputs": [
    {
     "name": "stdout",
     "output_type": "stream",
     "text": [
      "{'relu0': ['ON', 'OFF', 'ON', 'OFF', 'OFF', 'OFF', 'ON', 'OFF', 'OFF', 'OFF', 'ON', 'ON', 'ON', 'OFF', 'ON', 'ON', 'OFF', 'OFF', 'OFF', 'OFF', 'ON', 'OFF', 'ON', 'ON', 'OFF', 'OFF', 'OFF', 'ON', 'ON', 'OFF', 'ON', 'OFF', 'OFF', 'OFF', 'ON', 'ON', 'OFF', 'ON', 'OFF', 'OFF', 'ON', 'ON', 'ON', 'OFF', 'OFF', 'OFF', 'ON', 'OFF', 'OFF', 'ON'], 'relu1': ['OFF', 'OFF', 'ON', 'OFF', 'OFF', 'OFF', 'OFF', 'OFF', 'OFF', 'ON', 'OFF', 'OFF', 'OFF', 'OFF', 'OFF', 'OFF', 'ON', 'OFF', 'OFF', 'OFF', 'ON', 'ON', 'ON', 'OFF', 'OFF', 'OFF', 'OFF', 'OFF', 'OFF', 'ON', 'ON', 'OFF', 'OFF', 'OFF', 'ON', 'OFF', 'OFF', 'OFF', 'OFF', 'OFF', 'OFF', 'ON', 'OFF', 'OFF', 'OFF', 'OFF', 'OFF', 'OFF', 'ON', 'OFF'], 'relu2': ['ON', 'ON', 'OFF', 'OFF', 'ON', 'OFF', 'OFF', 'ON', 'OFF', 'OFF', 'ON', 'OFF', 'ON', 'OFF', 'OFF', 'OFF', 'OFF', 'ON', 'OFF', 'OFF', 'ON', 'OFF', 'ON', 'OFF', 'OFF', 'OFF', 'ON', 'OFF', 'OFF', 'ON', 'OFF', 'OFF', 'OFF', 'OFF', 'OFF', 'OFF', 'OFF', 'OFF', 'OFF', 'OFF', 'OFF', 'ON', 'ON', 'OFF', 'OFF', 'ON', 'ON', 'OFF', 'OFF', 'OFF'], 'relu3': ['OFF', 'OFF', 'OFF', 'OFF', 'OFF', 'OFF', 'OFF', 'OFF', 'OFF', 'ON', 'OFF', 'ON', 'OFF', 'OFF', 'OFF', 'OFF', 'OFF', 'OFF', 'OFF', 'OFF', 'ON', 'OFF', 'OFF', 'ON', 'OFF', 'OFF', 'OFF', 'OFF', 'OFF', 'OFF', 'OFF', 'ON', 'ON', 'ON', 'OFF', 'OFF', 'OFF', 'OFF', 'OFF', 'OFF', 'ON', 'OFF', 'OFF', 'OFF', 'ON', 'ON', 'OFF', 'OFF', 'ON', 'ON'], 'relu4': ['OFF', 'OFF', 'OFF', 'OFF', 'OFF', 'OFF', 'OFF', 'OFF', 'OFF', 'OFF', 'ON', 'OFF', 'OFF', 'OFF', 'OFF', 'OFF', 'OFF', 'OFF', 'OFF', 'OFF', 'ON', 'OFF', 'OFF', 'OFF', 'OFF', 'ON', 'OFF', 'OFF', 'OFF', 'OFF', 'OFF', 'OFF', 'OFF', 'ON', 'OFF', 'OFF', 'OFF', 'OFF', 'OFF', 'OFF', 'OFF', 'OFF', 'OFF', 'OFF', 'OFF', 'OFF', 'ON', 'ON', 'OFF', 'OFF'], 'relu5': ['OFF', 'OFF', 'OFF', 'OFF', 'OFF', 'OFF', 'OFF', 'OFF', 'OFF', 'OFF', 'OFF', 'OFF', 'OFF', 'OFF', 'OFF', 'OFF', 'OFF', 'OFF', 'OFF', 'OFF', 'OFF', 'OFF', 'OFF', 'OFF', 'OFF', 'ON', 'OFF', 'OFF', 'OFF', 'OFF', 'OFF', 'OFF', 'OFF', 'OFF', 'OFF', 'OFF', 'OFF', 'OFF', 'OFF', 'OFF', 'OFF', 'OFF', 'OFF', 'OFF', 'OFF', 'OFF', 'OFF', 'OFF', 'OFF', 'ON']}\n"
     ]
    }
   ],
   "source": [
    "input_data = [[0.62, 0.1, 0.2, 0.47, -0.48]]\n",
    "X = torch.tensor(input_data, dtype=torch.float)\n",
    "_logits = model(X)\n",
    "\n",
    "activation_signature = turn_bool_activation_to_str(activation_signature)\n",
    "for layer_name, activations in activation_signature.items():\n",
    "  activation_signature[layer_name] = activations[0]\n",
    "  \n",
    "print(activation_signature)"
   ]
  },
  {
   "cell_type": "code",
   "execution_count": 7,
   "id": "53faa4df",
   "metadata": {},
   "outputs": [
    {
     "data": {
      "text/plain": [
       "['unsat',\n",
       " {},\n",
       " <maraboupy.MarabouCore.Statistics at 0x107fc3f30>,\n",
       " <maraboupy.MarabouCore.InputQuery at 0x2cfaee9b0>]"
      ]
     },
     "execution_count": 7,
     "metadata": {},
     "output_type": "execute_result"
    }
   ],
   "source": [
    "dp = MarabouCoreDP()\n",
    "dp.solve(activation_signature, model, input_ranges, specifications)"
   ]
  },
  {
   "cell_type": "markdown",
   "id": "57bf381f",
   "metadata": {},
   "source": [
    "## 0. Prepare ACASXU dataset"
   ]
  },
  {
   "cell_type": "code",
   "execution_count": 8,
   "id": "747919a2",
   "metadata": {},
   "outputs": [],
   "source": [
    "# !wget https://raw.githubusercontent.com/safednn-nasa/prophecy_DNN/master/clusterinACAS_0_short.csv -O ./datasets/clusterinACAS_0_shrt.csv"
   ]
  },
  {
   "cell_type": "code",
   "execution_count": 9,
   "id": "658717cb",
   "metadata": {},
   "outputs": [],
   "source": [
    "acas_train = np.empty([384221,5],dtype=float)\n",
    "acas_train_labels = np.zeros(384221,dtype=int)\n",
    "\n",
    "def read_inputs_from_file(inputFile):\n",
    "  global acas_train, acas_train_labels, num\n",
    "  with open(inputFile) as f:\n",
    "    lines = f.readlines()\n",
    "    print(len(lines), \"examples\")\n",
    "    acas_train = np.empty([len(lines),5],dtype=float)\n",
    "    acas_train_labels = np.zeros(len(lines),dtype=int)\n",
    "\n",
    "    for l in range(len(lines)):\n",
    "      # This is to remove the useless 1 at the start of each string. Not sure why that's there.\n",
    "      k = [float(stringIn) for stringIn in lines[l].split(',')] \n",
    "      \n",
    "      # acas_train[l+num] = np.zeros(5,dtype=float) \n",
    "      # we're asuming that everything is 2D for now. The 1 is just to keep numpy happy.\n",
    "      if len(k) > 5:\n",
    "        lab = int(k[5])\n",
    "        #if ((lab == 0) or (lab == 2)):\n",
    "        #  lab = 0\n",
    "        #else:\n",
    "        #  lab = 1\n",
    "        acas_train_labels[l+num] = lab\n",
    "\n",
    "      count = 0\n",
    "      for i in range(0,5):\n",
    "        #print(count)\n",
    "        acas_train[l+num][i] = k[i]\n",
    "        #print(k[i])"
   ]
  },
  {
   "cell_type": "code",
   "execution_count": 10,
   "id": "25958f98",
   "metadata": {},
   "outputs": [
    {
     "name": "stdout",
     "output_type": "stream",
     "text": [
      "384221 examples\n",
      "(384221, 5)\n",
      "(384221,)\n"
     ]
    },
    {
     "data": {
      "text/plain": [
       "array([[-0.320142, -0.5     , -0.5     , -0.5     , -0.5     ],\n",
       "       [-0.295234, -0.5     , -0.5     , -0.5     , -0.5     ],\n",
       "       [-0.240207, -0.5     , -0.5     , -0.5     , -0.5     ],\n",
       "       [-0.208943, -0.5     , -0.5     , -0.5     , -0.5     ],\n",
       "       [-0.183636, -0.5     , -0.5     , -0.5     , -0.5     ]])"
      ]
     },
     "execution_count": 10,
     "metadata": {},
     "output_type": "execute_result"
    }
   ],
   "source": [
    "num = 0\n",
    "read_inputs_from_file('./datasets/clusterinACAS_0_shrt.csv')\n",
    "print(acas_train.shape)\n",
    "print(acas_train_labels.shape)\n",
    "acas_train[:5]"
   ]
  },
  {
   "cell_type": "code",
   "execution_count": 11,
   "id": "1c245d5c",
   "metadata": {},
   "outputs": [
    {
     "data": {
      "text/html": [
       "<div>\n",
       "<style scoped>\n",
       "    .dataframe tbody tr th:only-of-type {\n",
       "        vertical-align: middle;\n",
       "    }\n",
       "\n",
       "    .dataframe tbody tr th {\n",
       "        vertical-align: top;\n",
       "    }\n",
       "\n",
       "    .dataframe thead th {\n",
       "        text-align: right;\n",
       "    }\n",
       "</style>\n",
       "<table border=\"1\" class=\"dataframe\">\n",
       "  <thead>\n",
       "    <tr style=\"text-align: right;\">\n",
       "      <th></th>\n",
       "      <th>input</th>\n",
       "      <th>true_label</th>\n",
       "      <th>predicted_label</th>\n",
       "      <th>relu0</th>\n",
       "      <th>relu1</th>\n",
       "      <th>relu2</th>\n",
       "      <th>relu3</th>\n",
       "      <th>relu4</th>\n",
       "      <th>relu5</th>\n",
       "      <th>full_signature</th>\n",
       "    </tr>\n",
       "  </thead>\n",
       "  <tbody>\n",
       "    <tr>\n",
       "      <th>0</th>\n",
       "      <td>[-0.320142, -0.5, -0.5, -0.5, -0.5]</td>\n",
       "      <td>3</td>\n",
       "      <td>3</td>\n",
       "      <td>[1, 1, 0, 1, 0, 0, 0, 1, 1, 1, 1, 0, 0, 1, 1, ...</td>\n",
       "      <td>[0, 0, 0, 0, 0, 0, 1, 0, 1, 0, 0, 1, 1, 0, 1, ...</td>\n",
       "      <td>[0, 0, 1, 1, 0, 0, 0, 0, 1, 0, 1, 1, 0, 0, 0, ...</td>\n",
       "      <td>[0, 0, 1, 1, 0, 0, 1, 0, 0, 0, 1, 1, 0, 0, 0, ...</td>\n",
       "      <td>[0, 0, 0, 0, 0, 1, 1, 0, 1, 1, 1, 0, 0, 0, 0, ...</td>\n",
       "      <td>[0, 1, 0, 0, 0, 1, 0, 0, 0, 1, 0, 0, 0, 0, 0, ...</td>\n",
       "      <td>{\"relu0\": [1, 1, 0, 1, 0, 0, 0, 1, 1, 1, 1, 0,...</td>\n",
       "    </tr>\n",
       "    <tr>\n",
       "      <th>1</th>\n",
       "      <td>[-0.295234, -0.5, -0.5, -0.5, -0.5]</td>\n",
       "      <td>1</td>\n",
       "      <td>1</td>\n",
       "      <td>[1, 1, 0, 1, 0, 0, 0, 1, 1, 1, 1, 0, 0, 1, 1, ...</td>\n",
       "      <td>[0, 0, 0, 0, 0, 0, 1, 0, 1, 0, 0, 1, 1, 0, 1, ...</td>\n",
       "      <td>[1, 0, 1, 1, 1, 0, 0, 0, 1, 0, 0, 1, 0, 0, 0, ...</td>\n",
       "      <td>[0, 0, 1, 1, 0, 0, 1, 0, 0, 0, 0, 1, 0, 0, 0, ...</td>\n",
       "      <td>[1, 0, 0, 0, 0, 1, 0, 0, 1, 0, 1, 0, 0, 0, 0, ...</td>\n",
       "      <td>[0, 1, 0, 1, 0, 0, 0, 0, 0, 0, 0, 0, 0, 0, 0, ...</td>\n",
       "      <td>{\"relu0\": [1, 1, 0, 1, 0, 0, 0, 1, 1, 1, 1, 0,...</td>\n",
       "    </tr>\n",
       "    <tr>\n",
       "      <th>2</th>\n",
       "      <td>[-0.240207, -0.5, -0.5, -0.5, -0.5]</td>\n",
       "      <td>0</td>\n",
       "      <td>0</td>\n",
       "      <td>[1, 1, 0, 1, 0, 0, 0, 0, 1, 1, 1, 0, 0, 1, 1, ...</td>\n",
       "      <td>[0, 0, 0, 0, 0, 0, 1, 0, 1, 0, 0, 1, 0, 0, 1, ...</td>\n",
       "      <td>[1, 0, 1, 1, 1, 0, 0, 0, 0, 0, 0, 1, 0, 0, 0, ...</td>\n",
       "      <td>[0, 0, 0, 1, 0, 0, 1, 0, 0, 0, 0, 1, 0, 0, 0, ...</td>\n",
       "      <td>[1, 0, 0, 0, 0, 1, 0, 0, 1, 0, 1, 0, 1, 0, 0, ...</td>\n",
       "      <td>[0, 0, 0, 1, 0, 0, 0, 0, 0, 0, 0, 0, 0, 0, 0, ...</td>\n",
       "      <td>{\"relu0\": [1, 1, 0, 1, 0, 0, 0, 0, 1, 1, 1, 0,...</td>\n",
       "    </tr>\n",
       "    <tr>\n",
       "      <th>3</th>\n",
       "      <td>[-0.208943, -0.5, -0.5, -0.5, -0.5]</td>\n",
       "      <td>0</td>\n",
       "      <td>0</td>\n",
       "      <td>[1, 1, 0, 0, 0, 0, 0, 0, 1, 1, 1, 0, 0, 1, 1, ...</td>\n",
       "      <td>[0, 0, 0, 0, 0, 0, 1, 0, 1, 0, 0, 1, 0, 0, 1, ...</td>\n",
       "      <td>[1, 0, 1, 1, 1, 0, 0, 0, 0, 0, 0, 1, 0, 0, 0, ...</td>\n",
       "      <td>[0, 0, 0, 1, 0, 0, 1, 0, 0, 0, 0, 1, 0, 0, 0, ...</td>\n",
       "      <td>[1, 0, 0, 0, 0, 1, 0, 0, 0, 0, 1, 0, 0, 0, 0, ...</td>\n",
       "      <td>[0, 0, 0, 1, 0, 0, 0, 0, 0, 0, 0, 0, 0, 0, 0, ...</td>\n",
       "      <td>{\"relu0\": [1, 1, 0, 0, 0, 0, 0, 0, 1, 1, 1, 0,...</td>\n",
       "    </tr>\n",
       "    <tr>\n",
       "      <th>4</th>\n",
       "      <td>[-0.183636, -0.5, -0.5, -0.5, -0.5]</td>\n",
       "      <td>0</td>\n",
       "      <td>0</td>\n",
       "      <td>[1, 1, 0, 0, 0, 0, 0, 0, 0, 1, 1, 0, 0, 1, 1, ...</td>\n",
       "      <td>[0, 0, 0, 0, 0, 0, 1, 0, 1, 0, 0, 1, 0, 0, 1, ...</td>\n",
       "      <td>[1, 0, 1, 1, 1, 0, 0, 0, 0, 0, 0, 1, 0, 0, 0, ...</td>\n",
       "      <td>[0, 0, 0, 1, 0, 0, 1, 0, 0, 0, 0, 1, 0, 0, 0, ...</td>\n",
       "      <td>[1, 0, 0, 0, 0, 1, 0, 0, 0, 0, 1, 0, 0, 0, 0, ...</td>\n",
       "      <td>[0, 0, 0, 0, 0, 0, 0, 0, 0, 0, 0, 0, 0, 0, 0, ...</td>\n",
       "      <td>{\"relu0\": [1, 1, 0, 0, 0, 0, 0, 0, 0, 1, 1, 0,...</td>\n",
       "    </tr>\n",
       "    <tr>\n",
       "      <th>5</th>\n",
       "      <td>[-0.10156, -0.5, -0.5, -0.5, -0.5]</td>\n",
       "      <td>0</td>\n",
       "      <td>0</td>\n",
       "      <td>[1, 1, 0, 0, 0, 0, 0, 0, 0, 0, 1, 1, 0, 1, 1, ...</td>\n",
       "      <td>[0, 0, 0, 0, 0, 0, 1, 0, 1, 0, 0, 1, 0, 0, 1, ...</td>\n",
       "      <td>[1, 0, 1, 1, 1, 0, 0, 0, 0, 0, 0, 1, 0, 0, 0, ...</td>\n",
       "      <td>[0, 0, 0, 1, 0, 0, 1, 0, 0, 0, 0, 1, 0, 0, 0, ...</td>\n",
       "      <td>[1, 0, 0, 0, 0, 1, 0, 0, 0, 0, 1, 0, 0, 0, 0, ...</td>\n",
       "      <td>[0, 0, 0, 0, 0, 0, 0, 0, 0, 0, 0, 0, 0, 0, 0, ...</td>\n",
       "      <td>{\"relu0\": [1, 1, 0, 0, 0, 0, 0, 0, 0, 0, 1, 1,...</td>\n",
       "    </tr>\n",
       "    <tr>\n",
       "      <th>6</th>\n",
       "      <td>[-0.000732, -0.5, -0.5, -0.5, -0.5]</td>\n",
       "      <td>0</td>\n",
       "      <td>0</td>\n",
       "      <td>[1, 0, 0, 0, 0, 0, 0, 0, 0, 0, 1, 1, 0, 1, 1, ...</td>\n",
       "      <td>[0, 0, 0, 0, 0, 0, 0, 0, 0, 0, 0, 1, 0, 0, 0, ...</td>\n",
       "      <td>[1, 0, 1, 1, 1, 0, 0, 0, 0, 0, 0, 1, 0, 0, 0, ...</td>\n",
       "      <td>[0, 0, 0, 1, 0, 0, 1, 0, 0, 0, 0, 1, 0, 0, 0, ...</td>\n",
       "      <td>[1, 0, 0, 0, 0, 1, 0, 0, 0, 0, 1, 0, 0, 0, 0, ...</td>\n",
       "      <td>[0, 0, 0, 0, 0, 0, 0, 0, 0, 0, 0, 0, 0, 0, 0, ...</td>\n",
       "      <td>{\"relu0\": [1, 0, 0, 0, 0, 0, 0, 0, 0, 0, 1, 1,...</td>\n",
       "    </tr>\n",
       "    <tr>\n",
       "      <th>7</th>\n",
       "      <td>[0.100096, -0.5, -0.5, -0.5, -0.5]</td>\n",
       "      <td>0</td>\n",
       "      <td>0</td>\n",
       "      <td>[1, 0, 0, 0, 0, 0, 1, 0, 0, 0, 1, 1, 0, 1, 1, ...</td>\n",
       "      <td>[0, 0, 0, 0, 0, 0, 0, 0, 0, 0, 0, 1, 0, 0, 0, ...</td>\n",
       "      <td>[1, 0, 1, 1, 1, 0, 0, 0, 0, 0, 0, 0, 0, 0, 0, ...</td>\n",
       "      <td>[0, 0, 0, 1, 0, 0, 1, 0, 0, 0, 0, 1, 0, 0, 0, ...</td>\n",
       "      <td>[1, 0, 0, 0, 0, 1, 0, 0, 0, 0, 1, 0, 0, 0, 0, ...</td>\n",
       "      <td>[0, 0, 0, 0, 0, 0, 0, 0, 0, 0, 0, 0, 0, 0, 0, ...</td>\n",
       "      <td>{\"relu0\": [1, 0, 0, 0, 0, 0, 1, 0, 0, 0, 1, 1,...</td>\n",
       "    </tr>\n",
       "    <tr>\n",
       "      <th>8</th>\n",
       "      <td>[0.200941, -0.5, -0.5, -0.5, -0.5]</td>\n",
       "      <td>0</td>\n",
       "      <td>0</td>\n",
       "      <td>[1, 0, 0, 0, 0, 0, 1, 0, 0, 0, 1, 1, 0, 1, 1, ...</td>\n",
       "      <td>[0, 0, 0, 0, 0, 0, 0, 0, 0, 1, 0, 0, 0, 0, 0, ...</td>\n",
       "      <td>[1, 0, 1, 1, 1, 0, 0, 0, 0, 0, 0, 0, 0, 0, 0, ...</td>\n",
       "      <td>[0, 0, 0, 1, 0, 0, 1, 0, 0, 0, 0, 1, 0, 0, 0, ...</td>\n",
       "      <td>[1, 0, 0, 0, 0, 0, 0, 0, 0, 0, 1, 0, 0, 0, 0, ...</td>\n",
       "      <td>[0, 0, 0, 1, 0, 0, 0, 0, 0, 0, 0, 0, 0, 0, 0, ...</td>\n",
       "      <td>{\"relu0\": [1, 0, 0, 0, 0, 0, 1, 0, 0, 0, 1, 1,...</td>\n",
       "    </tr>\n",
       "    <tr>\n",
       "      <th>9</th>\n",
       "      <td>[0.301769, -0.5, -0.5, -0.5, -0.5]</td>\n",
       "      <td>0</td>\n",
       "      <td>0</td>\n",
       "      <td>[1, 0, 0, 0, 0, 0, 1, 0, 0, 0, 1, 1, 0, 1, 1, ...</td>\n",
       "      <td>[0, 0, 0, 0, 0, 0, 0, 0, 0, 1, 0, 0, 0, 0, 0, ...</td>\n",
       "      <td>[1, 0, 1, 1, 1, 0, 0, 0, 0, 0, 0, 0, 0, 0, 0, ...</td>\n",
       "      <td>[0, 0, 0, 1, 0, 0, 1, 0, 0, 0, 0, 1, 0, 0, 0, ...</td>\n",
       "      <td>[1, 0, 0, 0, 0, 0, 0, 0, 0, 0, 1, 0, 0, 0, 0, ...</td>\n",
       "      <td>[0, 0, 0, 1, 0, 0, 0, 0, 0, 0, 0, 0, 0, 0, 0, ...</td>\n",
       "      <td>{\"relu0\": [1, 0, 0, 0, 0, 0, 1, 0, 0, 0, 1, 1,...</td>\n",
       "    </tr>\n",
       "  </tbody>\n",
       "</table>\n",
       "</div>"
      ],
      "text/plain": [
       "                                 input  true_label  predicted_label  \\\n",
       "0  [-0.320142, -0.5, -0.5, -0.5, -0.5]           3                3   \n",
       "1  [-0.295234, -0.5, -0.5, -0.5, -0.5]           1                1   \n",
       "2  [-0.240207, -0.5, -0.5, -0.5, -0.5]           0                0   \n",
       "3  [-0.208943, -0.5, -0.5, -0.5, -0.5]           0                0   \n",
       "4  [-0.183636, -0.5, -0.5, -0.5, -0.5]           0                0   \n",
       "5   [-0.10156, -0.5, -0.5, -0.5, -0.5]           0                0   \n",
       "6  [-0.000732, -0.5, -0.5, -0.5, -0.5]           0                0   \n",
       "7   [0.100096, -0.5, -0.5, -0.5, -0.5]           0                0   \n",
       "8   [0.200941, -0.5, -0.5, -0.5, -0.5]           0                0   \n",
       "9   [0.301769, -0.5, -0.5, -0.5, -0.5]           0                0   \n",
       "\n",
       "                                               relu0  \\\n",
       "0  [1, 1, 0, 1, 0, 0, 0, 1, 1, 1, 1, 0, 0, 1, 1, ...   \n",
       "1  [1, 1, 0, 1, 0, 0, 0, 1, 1, 1, 1, 0, 0, 1, 1, ...   \n",
       "2  [1, 1, 0, 1, 0, 0, 0, 0, 1, 1, 1, 0, 0, 1, 1, ...   \n",
       "3  [1, 1, 0, 0, 0, 0, 0, 0, 1, 1, 1, 0, 0, 1, 1, ...   \n",
       "4  [1, 1, 0, 0, 0, 0, 0, 0, 0, 1, 1, 0, 0, 1, 1, ...   \n",
       "5  [1, 1, 0, 0, 0, 0, 0, 0, 0, 0, 1, 1, 0, 1, 1, ...   \n",
       "6  [1, 0, 0, 0, 0, 0, 0, 0, 0, 0, 1, 1, 0, 1, 1, ...   \n",
       "7  [1, 0, 0, 0, 0, 0, 1, 0, 0, 0, 1, 1, 0, 1, 1, ...   \n",
       "8  [1, 0, 0, 0, 0, 0, 1, 0, 0, 0, 1, 1, 0, 1, 1, ...   \n",
       "9  [1, 0, 0, 0, 0, 0, 1, 0, 0, 0, 1, 1, 0, 1, 1, ...   \n",
       "\n",
       "                                               relu1  \\\n",
       "0  [0, 0, 0, 0, 0, 0, 1, 0, 1, 0, 0, 1, 1, 0, 1, ...   \n",
       "1  [0, 0, 0, 0, 0, 0, 1, 0, 1, 0, 0, 1, 1, 0, 1, ...   \n",
       "2  [0, 0, 0, 0, 0, 0, 1, 0, 1, 0, 0, 1, 0, 0, 1, ...   \n",
       "3  [0, 0, 0, 0, 0, 0, 1, 0, 1, 0, 0, 1, 0, 0, 1, ...   \n",
       "4  [0, 0, 0, 0, 0, 0, 1, 0, 1, 0, 0, 1, 0, 0, 1, ...   \n",
       "5  [0, 0, 0, 0, 0, 0, 1, 0, 1, 0, 0, 1, 0, 0, 1, ...   \n",
       "6  [0, 0, 0, 0, 0, 0, 0, 0, 0, 0, 0, 1, 0, 0, 0, ...   \n",
       "7  [0, 0, 0, 0, 0, 0, 0, 0, 0, 0, 0, 1, 0, 0, 0, ...   \n",
       "8  [0, 0, 0, 0, 0, 0, 0, 0, 0, 1, 0, 0, 0, 0, 0, ...   \n",
       "9  [0, 0, 0, 0, 0, 0, 0, 0, 0, 1, 0, 0, 0, 0, 0, ...   \n",
       "\n",
       "                                               relu2  \\\n",
       "0  [0, 0, 1, 1, 0, 0, 0, 0, 1, 0, 1, 1, 0, 0, 0, ...   \n",
       "1  [1, 0, 1, 1, 1, 0, 0, 0, 1, 0, 0, 1, 0, 0, 0, ...   \n",
       "2  [1, 0, 1, 1, 1, 0, 0, 0, 0, 0, 0, 1, 0, 0, 0, ...   \n",
       "3  [1, 0, 1, 1, 1, 0, 0, 0, 0, 0, 0, 1, 0, 0, 0, ...   \n",
       "4  [1, 0, 1, 1, 1, 0, 0, 0, 0, 0, 0, 1, 0, 0, 0, ...   \n",
       "5  [1, 0, 1, 1, 1, 0, 0, 0, 0, 0, 0, 1, 0, 0, 0, ...   \n",
       "6  [1, 0, 1, 1, 1, 0, 0, 0, 0, 0, 0, 1, 0, 0, 0, ...   \n",
       "7  [1, 0, 1, 1, 1, 0, 0, 0, 0, 0, 0, 0, 0, 0, 0, ...   \n",
       "8  [1, 0, 1, 1, 1, 0, 0, 0, 0, 0, 0, 0, 0, 0, 0, ...   \n",
       "9  [1, 0, 1, 1, 1, 0, 0, 0, 0, 0, 0, 0, 0, 0, 0, ...   \n",
       "\n",
       "                                               relu3  \\\n",
       "0  [0, 0, 1, 1, 0, 0, 1, 0, 0, 0, 1, 1, 0, 0, 0, ...   \n",
       "1  [0, 0, 1, 1, 0, 0, 1, 0, 0, 0, 0, 1, 0, 0, 0, ...   \n",
       "2  [0, 0, 0, 1, 0, 0, 1, 0, 0, 0, 0, 1, 0, 0, 0, ...   \n",
       "3  [0, 0, 0, 1, 0, 0, 1, 0, 0, 0, 0, 1, 0, 0, 0, ...   \n",
       "4  [0, 0, 0, 1, 0, 0, 1, 0, 0, 0, 0, 1, 0, 0, 0, ...   \n",
       "5  [0, 0, 0, 1, 0, 0, 1, 0, 0, 0, 0, 1, 0, 0, 0, ...   \n",
       "6  [0, 0, 0, 1, 0, 0, 1, 0, 0, 0, 0, 1, 0, 0, 0, ...   \n",
       "7  [0, 0, 0, 1, 0, 0, 1, 0, 0, 0, 0, 1, 0, 0, 0, ...   \n",
       "8  [0, 0, 0, 1, 0, 0, 1, 0, 0, 0, 0, 1, 0, 0, 0, ...   \n",
       "9  [0, 0, 0, 1, 0, 0, 1, 0, 0, 0, 0, 1, 0, 0, 0, ...   \n",
       "\n",
       "                                               relu4  \\\n",
       "0  [0, 0, 0, 0, 0, 1, 1, 0, 1, 1, 1, 0, 0, 0, 0, ...   \n",
       "1  [1, 0, 0, 0, 0, 1, 0, 0, 1, 0, 1, 0, 0, 0, 0, ...   \n",
       "2  [1, 0, 0, 0, 0, 1, 0, 0, 1, 0, 1, 0, 1, 0, 0, ...   \n",
       "3  [1, 0, 0, 0, 0, 1, 0, 0, 0, 0, 1, 0, 0, 0, 0, ...   \n",
       "4  [1, 0, 0, 0, 0, 1, 0, 0, 0, 0, 1, 0, 0, 0, 0, ...   \n",
       "5  [1, 0, 0, 0, 0, 1, 0, 0, 0, 0, 1, 0, 0, 0, 0, ...   \n",
       "6  [1, 0, 0, 0, 0, 1, 0, 0, 0, 0, 1, 0, 0, 0, 0, ...   \n",
       "7  [1, 0, 0, 0, 0, 1, 0, 0, 0, 0, 1, 0, 0, 0, 0, ...   \n",
       "8  [1, 0, 0, 0, 0, 0, 0, 0, 0, 0, 1, 0, 0, 0, 0, ...   \n",
       "9  [1, 0, 0, 0, 0, 0, 0, 0, 0, 0, 1, 0, 0, 0, 0, ...   \n",
       "\n",
       "                                               relu5  \\\n",
       "0  [0, 1, 0, 0, 0, 1, 0, 0, 0, 1, 0, 0, 0, 0, 0, ...   \n",
       "1  [0, 1, 0, 1, 0, 0, 0, 0, 0, 0, 0, 0, 0, 0, 0, ...   \n",
       "2  [0, 0, 0, 1, 0, 0, 0, 0, 0, 0, 0, 0, 0, 0, 0, ...   \n",
       "3  [0, 0, 0, 1, 0, 0, 0, 0, 0, 0, 0, 0, 0, 0, 0, ...   \n",
       "4  [0, 0, 0, 0, 0, 0, 0, 0, 0, 0, 0, 0, 0, 0, 0, ...   \n",
       "5  [0, 0, 0, 0, 0, 0, 0, 0, 0, 0, 0, 0, 0, 0, 0, ...   \n",
       "6  [0, 0, 0, 0, 0, 0, 0, 0, 0, 0, 0, 0, 0, 0, 0, ...   \n",
       "7  [0, 0, 0, 0, 0, 0, 0, 0, 0, 0, 0, 0, 0, 0, 0, ...   \n",
       "8  [0, 0, 0, 1, 0, 0, 0, 0, 0, 0, 0, 0, 0, 0, 0, ...   \n",
       "9  [0, 0, 0, 1, 0, 0, 0, 0, 0, 0, 0, 0, 0, 0, 0, ...   \n",
       "\n",
       "                                      full_signature  \n",
       "0  {\"relu0\": [1, 1, 0, 1, 0, 0, 0, 1, 1, 1, 1, 0,...  \n",
       "1  {\"relu0\": [1, 1, 0, 1, 0, 0, 0, 1, 1, 1, 1, 0,...  \n",
       "2  {\"relu0\": [1, 1, 0, 1, 0, 0, 0, 0, 1, 1, 1, 0,...  \n",
       "3  {\"relu0\": [1, 1, 0, 0, 0, 0, 0, 0, 1, 1, 1, 0,...  \n",
       "4  {\"relu0\": [1, 1, 0, 0, 0, 0, 0, 0, 0, 1, 1, 0,...  \n",
       "5  {\"relu0\": [1, 1, 0, 0, 0, 0, 0, 0, 0, 0, 1, 1,...  \n",
       "6  {\"relu0\": [1, 0, 0, 0, 0, 0, 0, 0, 0, 0, 1, 1,...  \n",
       "7  {\"relu0\": [1, 0, 0, 0, 0, 0, 1, 0, 0, 0, 1, 1,...  \n",
       "8  {\"relu0\": [1, 0, 0, 0, 0, 0, 1, 0, 0, 0, 1, 1,...  \n",
       "9  {\"relu0\": [1, 0, 0, 0, 0, 0, 1, 0, 0, 0, 1, 1,...  "
      ]
     },
     "execution_count": 11,
     "metadata": {},
     "output_type": "execute_result"
    }
   ],
   "source": [
    "def create_df(inputs, predicted_labels, true_labels, activation_signature):\n",
    "  data = []\n",
    "  for index, input_data in enumerate(inputs):\n",
    "    data_point = { \n",
    "      \"input\": input_data, \n",
    "      \"true_label\": true_labels[index], \n",
    "      \"predicted_label\": predicted_labels[index].item(),\n",
    "    }\n",
    "    data_point_full_signature = {} \n",
    "    for name, layer_activation in activation_signature.items():\n",
    "      data_point[name] = json.dumps(layer_activation[index])\n",
    "      data_point_full_signature[name] = layer_activation[index]\n",
    "      \n",
    "    data_point['full_signature'] = json.dumps(data_point_full_signature)\n",
    "    data.append(data_point)\n",
    "\n",
    "  return pd.DataFrame(data)\n",
    "\n",
    "outputs = model(torch.tensor(acas_train, dtype=torch.float32))\n",
    "predicted_labels = torch.argmin(outputs, dim=1)\n",
    "activation_signature = turn_bool_activation_to_int(activation_signature, to_list=True)\n",
    "df = create_df(acas_train, predicted_labels, acas_train_labels, activation_signature)\n",
    "df.head(10)"
   ]
  },
  {
   "cell_type": "code",
   "execution_count": 12,
   "id": "a577cb37",
   "metadata": {},
   "outputs": [
    {
     "data": {
      "text/plain": [
       "0.7663037678835878"
      ]
     },
     "execution_count": 12,
     "metadata": {},
     "output_type": "execute_result"
    }
   ],
   "source": [
    "# test accuracy\n",
    "len(df[df[\"predicted_label\"] == df['true_label']]) / (len(df))"
   ]
  },
  {
   "cell_type": "markdown",
   "id": "e3c30c16",
   "metadata": {},
   "source": [
    "## 1. Input properties"
   ]
  },
  {
   "cell_type": "markdown",
   "id": "4592db40",
   "metadata": {},
   "source": [
    "### 1.1 With DP "
   ]
  },
  {
   "cell_type": "code",
   "execution_count": 13,
   "id": "7eaab744",
   "metadata": {},
   "outputs": [],
   "source": [
    "# Prepare candidate input property for each class \n",
    "# For example: specification for output = class 0, meaning constraints for NOT class 0\n",
    "# since the result is argmin, this would mean we'll encode constraints for y0 NOT being the min value\n",
    "# i.e. y1 <= y0 or y2 <= y0 or y3 <= y0 or y4 <= y0\n",
    "specification_for_classes = {\n",
    "  0: [(np.array([[-1, 1, 0, 0, 0]]), np.array([0])),\n",
    "      (np.array([[-1, 0, 1, 0, 0]]), np.array([0])),\n",
    "      (np.array([[-1, 0, 0, 1, 0]]), np.array([0])),\n",
    "      (np.array([[-1, 0, 0, 0, 1]]), np.array([0]))],\n",
    "  \n",
    "  1: [(np.array([[1, -1, 0, 0, 0]]), np.array([0])),\n",
    "      (np.array([[0, -1, 1, 0, 0]]), np.array([0])),\n",
    "      (np.array([[0, -1, 0, 1, 0]]), np.array([0])),\n",
    "      (np.array([[0, -1, 0, 0, 1]]), np.array([0]))],\n",
    "  \n",
    "  2: [(np.array([[1, 0, -1, 0, 0]]), np.array([0])),\n",
    "      (np.array([[0, 1, -1, 0, 0]]), np.array([0])),\n",
    "      (np.array([[0, 0, -1, 1, 0]]), np.array([0])),\n",
    "      (np.array([[0, 0, -1, 0, 1]]), np.array([0]))],\n",
    "  \n",
    "  3: [(np.array([[1, 0, 0, -1, 0]]), np.array([0])),\n",
    "      (np.array([[0, 1, 0, -1, 0]]), np.array([0])),\n",
    "      (np.array([[0, 0, 1, -1, 0]]), np.array([0])),\n",
    "      (np.array([[0, 0, 0, -1, 1]]), np.array([0]))],\n",
    "  \n",
    "  4: [(np.array([[1, 0, 0, 0, -1]]), np.array([0])),\n",
    "      (np.array([[0, 1, 0, 0, -1]]), np.array([0])),\n",
    "      (np.array([[0, 0, 1, 0, -1]]), np.array([0])),\n",
    "      (np.array([[0, 0, 0, 1, -1]]), np.array([0]))],\n",
    "}\n",
    "\n",
    "candidates = {}\n",
    "input_ranges = {}\n",
    "samples = {}\n",
    "\n",
    "for y_class in range(5):\n",
    "  # Group the DataFrame by 'full_signature' column and get the group sizes\n",
    "  # Get the signature with the highest support\n",
    "  class_df = df[df['predicted_label'] == y_class]\n",
    "  group_sizes = class_df.groupby('full_signature').size()\n",
    "  activation_with_max_support = group_sizes.idxmax()\n",
    "  activation_pattern = json.loads(activation_with_max_support)\n",
    "  \n",
    "  # Turn activation from 0 and 1 to ON and OFF to match DP's format\n",
    "  for layer, activation in activation_pattern.items():\n",
    "    activation_pattern[layer] = [\"ON\" if val == 1 else \"OFF\" for val in activation]\n",
    "  candidates[y_class] = activation_pattern\n",
    "  \n",
    "  # Find input ranges for the candidate property\n",
    "  ranges = []\n",
    "  support_df = class_df[class_df['full_signature'] == activation_with_max_support]\n",
    "  for i in range(5):\n",
    "    min_val = support_df['input'].apply(lambda x: x[i]).min()\n",
    "    max_val = support_df['input'].apply(lambda x: x[i]).max()\n",
    "    ranges.append([min_val, max_val])\n",
    "  input_ranges[y_class] = ranges\n",
    "  \n",
    "  # Sample a data point from support\n",
    "  sample_row = support_df.sample()\n",
    "  assert str(sample_row.get('full_signature').item()) == str(activation_with_max_support)\n",
    "  samples[y_class] = sample_row.get('input').item()\n",
    "  \n",
    "# pprint.pprint(\"CANDIDATE PROPERTIES:\")\n",
    "# pprint.pprint(candidates)\n",
    "\n",
    "# pprint.pprint(\"INPUT RANGES:\")\n",
    "# pprint.pprint(input_ranges)\n",
    "\n",
    "# pprint.pprint(\"SAMPLES:\")\n",
    "# pprint.pprint(samples)"
   ]
  },
  {
   "cell_type": "code",
   "execution_count": 14,
   "id": "2e3302a9",
   "metadata": {},
   "outputs": [
    {
     "data": {
      "text/plain": [
       "{0: [[0.100096, 0.478202],\n",
       "  [-0.449995, -0.250001],\n",
       "  [-0.5, -0.349998],\n",
       "  [-0.214282, 0.071427],\n",
       "  [0.25, 0.5]],\n",
       " 1: [[-0.295234, -0.295234],\n",
       "  [-0.5, -0.400004],\n",
       "  [-0.300007, -0.199994],\n",
       "  [-0.214282, -0.214282],\n",
       "  [-0.5, -0.5]],\n",
       " 2: [[-0.295234, -0.295234],\n",
       "  [0.300007, 0.349998],\n",
       "  [0.449995, 0.5],\n",
       "  [0.357182, 0.5],\n",
       "  [-0.5, -0.5]],\n",
       " 3: [[-0.320142, -0.320142],\n",
       "  [-0.5, -0.449995],\n",
       "  [-0.449995, -0.349998],\n",
       "  [0.071427, 0.071427],\n",
       "  [0.0, 0.0]],\n",
       " 4: [[-0.295234, -0.295234],\n",
       "  [0.449995, 0.449995],\n",
       "  [-0.5, -0.400004],\n",
       "  [0.357182, 0.5],\n",
       "  [-0.5, -0.5]]}"
      ]
     },
     "execution_count": 14,
     "metadata": {},
     "output_type": "execute_result"
    }
   ],
   "source": [
    "input_ranges"
   ]
  },
  {
   "cell_type": "code",
   "execution_count": 15,
   "id": "823da396",
   "metadata": {},
   "outputs": [
    {
     "data": {
      "text/plain": [
       "{0: array([ 0.150527, -0.349998, -0.449995,  0.071427,  0.375   ]),\n",
       " 1: array([-0.295234, -0.5     , -0.199994, -0.214282, -0.5     ]),\n",
       " 2: array([-0.295234,  0.300007,  0.5     ,  0.5     , -0.5     ]),\n",
       " 3: array([-0.320142, -0.449995, -0.349998,  0.071427,  0.      ]),\n",
       " 4: array([-0.295234,  0.449995, -0.5     ,  0.5     , -0.5     ])}"
      ]
     },
     "execution_count": 15,
     "metadata": {},
     "output_type": "execute_result"
    }
   ],
   "source": [
    "samples"
   ]
  },
  {
   "cell_type": "code",
   "execution_count": 16,
   "id": "2e6e08e5",
   "metadata": {},
   "outputs": [
    {
     "name": "stdout",
     "output_type": "stream",
     "text": [
      "{'relu0': ['ON', 'OFF', 'OFF', 'OFF', 'OFF', 'OFF', 'ON', 'OFF', 'OFF', 'OFF', 'ON', 'ON', 'OFF', 'OFF', 'ON', 'OFF', 'OFF', 'ON', 'ON', 'OFF', 'OFF', 'OFF', 'OFF', 'OFF', 'OFF', 'OFF', 'OFF', 'OFF', 'OFF', 'OFF', 'ON', 'ON', 'OFF', 'OFF', 'ON', 'ON', 'ON', 'OFF', 'OFF', 'ON', 'ON', 'OFF', 'OFF', 'OFF', 'OFF', 'OFF', 'OFF', 'ON', 'OFF', 'ON'], 'relu1': ['OFF', 'OFF', 'OFF', 'OFF', 'OFF', 'OFF', 'ON', 'OFF', 'OFF', 'OFF', 'OFF', 'OFF', 'OFF', 'OFF', 'OFF', 'OFF', 'OFF', 'OFF', 'OFF', 'ON', 'ON', 'OFF', 'OFF', 'OFF', 'OFF', 'OFF', 'OFF', 'OFF', 'OFF', 'ON', 'OFF', 'OFF', 'OFF', 'OFF', 'OFF', 'OFF', 'OFF', 'OFF', 'OFF', 'OFF', 'ON', 'OFF', 'OFF', 'OFF', 'OFF', 'ON', 'OFF', 'OFF', 'OFF', 'OFF'], 'relu2': ['OFF', 'OFF', 'ON', 'OFF', 'OFF', 'OFF', 'OFF', 'OFF', 'OFF', 'OFF', 'OFF', 'ON', 'OFF', 'ON', 'OFF', 'ON', 'OFF', 'ON', 'OFF', 'OFF', 'OFF', 'OFF', 'ON', 'ON', 'OFF', 'OFF', 'OFF', 'OFF', 'OFF', 'ON', 'OFF', 'ON', 'OFF', 'OFF', 'OFF', 'OFF', 'ON', 'OFF', 'OFF', 'OFF', 'ON', 'ON', 'OFF', 'OFF', 'OFF', 'OFF', 'OFF', 'OFF', 'OFF', 'ON'], 'relu3': ['OFF', 'OFF', 'OFF', 'ON', 'OFF', 'OFF', 'ON', 'OFF', 'OFF', 'OFF', 'OFF', 'ON', 'OFF', 'OFF', 'OFF', 'OFF', 'ON', 'OFF', 'OFF', 'OFF', 'OFF', 'OFF', 'OFF', 'OFF', 'OFF', 'OFF', 'OFF', 'OFF', 'OFF', 'OFF', 'OFF', 'ON', 'ON', 'ON', 'OFF', 'OFF', 'OFF', 'OFF', 'ON', 'OFF', 'ON', 'ON', 'OFF', 'ON', 'ON', 'OFF', 'OFF', 'OFF', 'OFF', 'ON'], 'relu4': ['ON', 'OFF', 'OFF', 'OFF', 'OFF', 'ON', 'OFF', 'OFF', 'OFF', 'OFF', 'ON', 'OFF', 'OFF', 'OFF', 'OFF', 'OFF', 'OFF', 'OFF', 'OFF', 'OFF', 'OFF', 'OFF', 'OFF', 'OFF', 'OFF', 'ON', 'OFF', 'OFF', 'OFF', 'OFF', 'OFF', 'ON', 'OFF', 'ON', 'OFF', 'OFF', 'OFF', 'OFF', 'OFF', 'OFF', 'OFF', 'OFF', 'OFF', 'OFF', 'OFF', 'OFF', 'ON', 'OFF', 'OFF', 'OFF'], 'relu5': ['OFF', 'OFF', 'OFF', 'OFF', 'OFF', 'OFF', 'OFF', 'OFF', 'OFF', 'OFF', 'OFF', 'OFF', 'OFF', 'OFF', 'OFF', 'OFF', 'OFF', 'OFF', 'OFF', 'OFF', 'OFF', 'OFF', 'OFF', 'OFF', 'OFF', 'ON', 'OFF', 'OFF', 'OFF', 'OFF', 'OFF', 'OFF', 'OFF', 'OFF', 'OFF', 'OFF', 'OFF', 'OFF', 'OFF', 'OFF', 'OFF', 'OFF', 'OFF', 'OFF', 'OFF', 'OFF', 'OFF', 'OFF', 'OFF', 'ON']} is an input property for class 0\n",
      "\n",
      "\n",
      "{'relu0': ['ON', 'ON', 'OFF', 'ON', 'OFF', 'OFF', 'OFF', 'ON', 'ON', 'ON', 'ON', 'OFF', 'OFF', 'ON', 'ON', 'OFF', 'ON', 'ON', 'ON', 'ON', 'OFF', 'OFF', 'OFF', 'ON', 'OFF', 'ON', 'ON', 'ON', 'OFF', 'OFF', 'ON', 'ON', 'OFF', 'ON', 'ON', 'ON', 'ON', 'ON', 'ON', 'OFF', 'ON', 'ON', 'ON', 'ON', 'ON', 'ON', 'OFF', 'ON', 'ON', 'ON'], 'relu1': ['OFF', 'OFF', 'ON', 'OFF', 'OFF', 'OFF', 'ON', 'OFF', 'ON', 'OFF', 'OFF', 'ON', 'OFF', 'OFF', 'ON', 'OFF', 'OFF', 'OFF', 'OFF', 'OFF', 'ON', 'ON', 'ON', 'OFF', 'OFF', 'OFF', 'OFF', 'ON', 'OFF', 'ON', 'OFF', 'OFF', 'OFF', 'ON', 'ON', 'OFF', 'OFF', 'OFF', 'OFF', 'OFF', 'OFF', 'OFF', 'OFF', 'OFF', 'ON', 'ON', 'OFF', 'OFF', 'OFF', 'ON'], 'relu2': ['ON', 'OFF', 'ON', 'ON', 'ON', 'OFF', 'OFF', 'OFF', 'OFF', 'OFF', 'OFF', 'ON', 'OFF', 'OFF', 'OFF', 'OFF', 'OFF', 'ON', 'OFF', 'OFF', 'OFF', 'OFF', 'ON', 'ON', 'OFF', 'ON', 'ON', 'OFF', 'ON', 'ON', 'ON', 'ON', 'OFF', 'OFF', 'OFF', 'ON', 'ON', 'OFF', 'OFF', 'OFF', 'OFF', 'ON', 'OFF', 'OFF', 'OFF', 'OFF', 'OFF', 'OFF', 'OFF', 'ON'], 'relu3': ['OFF', 'OFF', 'OFF', 'ON', 'OFF', 'OFF', 'ON', 'OFF', 'OFF', 'OFF', 'OFF', 'ON', 'OFF', 'OFF', 'OFF', 'ON', 'ON', 'OFF', 'ON', 'OFF', 'OFF', 'OFF', 'OFF', 'OFF', 'OFF', 'ON', 'OFF', 'OFF', 'OFF', 'OFF', 'OFF', 'OFF', 'ON', 'ON', 'OFF', 'OFF', 'OFF', 'OFF', 'OFF', 'OFF', 'ON', 'OFF', 'OFF', 'OFF', 'ON', 'OFF', 'OFF', 'OFF', 'ON', 'OFF'], 'relu4': ['ON', 'OFF', 'OFF', 'OFF', 'OFF', 'ON', 'OFF', 'OFF', 'ON', 'OFF', 'ON', 'OFF', 'OFF', 'OFF', 'OFF', 'OFF', 'OFF', 'OFF', 'OFF', 'OFF', 'OFF', 'OFF', 'ON', 'OFF', 'OFF', 'ON', 'OFF', 'OFF', 'OFF', 'OFF', 'OFF', 'ON', 'OFF', 'ON', 'OFF', 'OFF', 'OFF', 'ON', 'OFF', 'OFF', 'OFF', 'ON', 'OFF', 'OFF', 'OFF', 'ON', 'ON', 'ON', 'OFF', 'OFF'], 'relu5': ['OFF', 'OFF', 'OFF', 'ON', 'OFF', 'OFF', 'OFF', 'OFF', 'OFF', 'OFF', 'OFF', 'OFF', 'OFF', 'OFF', 'OFF', 'OFF', 'OFF', 'OFF', 'OFF', 'OFF', 'OFF', 'OFF', 'OFF', 'OFF', 'OFF', 'OFF', 'OFF', 'OFF', 'OFF', 'OFF', 'OFF', 'OFF', 'OFF', 'OFF', 'OFF', 'OFF', 'OFF', 'ON', 'OFF', 'OFF', 'OFF', 'OFF', 'OFF', 'OFF', 'OFF', 'ON', 'OFF', 'OFF', 'OFF', 'OFF']} is an input property for class 1\n",
      "\n",
      "\n",
      "{'relu0': ['OFF', 'ON', 'ON', 'ON', 'ON', 'OFF', 'ON', 'ON', 'OFF', 'ON', 'OFF', 'ON', 'ON', 'OFF', 'OFF', 'ON', 'OFF', 'OFF', 'OFF', 'ON', 'ON', 'OFF', 'ON', 'ON', 'OFF', 'ON', 'ON', 'ON', 'ON', 'OFF', 'ON', 'OFF', 'ON', 'ON', 'ON', 'ON', 'OFF', 'ON', 'ON', 'OFF', 'OFF', 'ON', 'ON', 'OFF', 'OFF', 'ON', 'ON', 'OFF', 'OFF', 'ON'], 'relu1': ['OFF', 'OFF', 'ON', 'OFF', 'OFF', 'OFF', 'ON', 'OFF', 'ON', 'ON', 'OFF', 'ON', 'OFF', 'OFF', 'ON', 'OFF', 'ON', 'OFF', 'OFF', 'OFF', 'ON', 'ON', 'OFF', 'OFF', 'OFF', 'OFF', 'OFF', 'ON', 'OFF', 'ON', 'ON', 'OFF', 'ON', 'ON', 'OFF', 'OFF', 'OFF', 'OFF', 'OFF', 'OFF', 'OFF', 'OFF', 'OFF', 'OFF', 'OFF', 'OFF', 'OFF', 'OFF', 'ON', 'ON'], 'relu2': ['ON', 'OFF', 'OFF', 'OFF', 'ON', 'OFF', 'ON', 'ON', 'OFF', 'OFF', 'ON', 'ON', 'ON', 'OFF', 'OFF', 'OFF', 'ON', 'ON', 'OFF', 'OFF', 'ON', 'OFF', 'ON', 'OFF', 'OFF', 'ON', 'ON', 'OFF', 'ON', 'ON', 'ON', 'OFF', 'OFF', 'OFF', 'ON', 'OFF', 'OFF', 'OFF', 'ON', 'OFF', 'OFF', 'ON', 'ON', 'OFF', 'OFF', 'ON', 'ON', 'OFF', 'ON', 'ON'], 'relu3': ['OFF', 'OFF', 'OFF', 'OFF', 'OFF', 'OFF', 'OFF', 'OFF', 'OFF', 'ON', 'OFF', 'ON', 'OFF', 'OFF', 'OFF', 'OFF', 'OFF', 'OFF', 'OFF', 'OFF', 'ON', 'OFF', 'OFF', 'ON', 'OFF', 'OFF', 'OFF', 'ON', 'OFF', 'OFF', 'OFF', 'OFF', 'ON', 'ON', 'OFF', 'OFF', 'OFF', 'OFF', 'OFF', 'OFF', 'ON', 'OFF', 'ON', 'OFF', 'OFF', 'ON', 'OFF', 'OFF', 'ON', 'ON'], 'relu4': ['OFF', 'OFF', 'OFF', 'OFF', 'OFF', 'OFF', 'OFF', 'OFF', 'ON', 'OFF', 'ON', 'OFF', 'OFF', 'OFF', 'OFF', 'OFF', 'OFF', 'ON', 'OFF', 'OFF', 'ON', 'OFF', 'ON', 'OFF', 'OFF', 'ON', 'OFF', 'OFF', 'OFF', 'OFF', 'OFF', 'ON', 'OFF', 'ON', 'OFF', 'OFF', 'OFF', 'ON', 'OFF', 'OFF', 'OFF', 'ON', 'OFF', 'OFF', 'OFF', 'OFF', 'ON', 'ON', 'OFF', 'OFF'], 'relu5': ['OFF', 'OFF', 'OFF', 'OFF', 'OFF', 'OFF', 'OFF', 'OFF', 'OFF', 'OFF', 'OFF', 'OFF', 'OFF', 'OFF', 'OFF', 'OFF', 'OFF', 'OFF', 'OFF', 'OFF', 'OFF', 'OFF', 'OFF', 'OFF', 'ON', 'OFF', 'OFF', 'OFF', 'OFF', 'OFF', 'OFF', 'OFF', 'OFF', 'OFF', 'OFF', 'OFF', 'OFF', 'OFF', 'OFF', 'OFF', 'OFF', 'OFF', 'OFF', 'OFF', 'OFF', 'ON', 'OFF', 'OFF', 'OFF', 'OFF']} is an input property for class 2\n",
      "\n",
      "\n",
      "{'relu0': ['ON', 'ON', 'OFF', 'ON', 'OFF', 'OFF', 'OFF', 'ON', 'ON', 'ON', 'ON', 'OFF', 'OFF', 'OFF', 'ON', 'OFF', 'ON', 'ON', 'ON', 'ON', 'OFF', 'OFF', 'OFF', 'ON', 'OFF', 'ON', 'OFF', 'OFF', 'OFF', 'OFF', 'ON', 'ON', 'ON', 'ON', 'ON', 'ON', 'ON', 'ON', 'ON', 'OFF', 'ON', 'ON', 'OFF', 'ON', 'ON', 'ON', 'OFF', 'ON', 'ON', 'OFF'], 'relu1': ['OFF', 'OFF', 'OFF', 'OFF', 'OFF', 'OFF', 'ON', 'OFF', 'OFF', 'OFF', 'OFF', 'ON', 'ON', 'OFF', 'ON', 'OFF', 'OFF', 'OFF', 'OFF', 'ON', 'ON', 'OFF', 'OFF', 'OFF', 'OFF', 'OFF', 'OFF', 'ON', 'OFF', 'ON', 'OFF', 'OFF', 'OFF', 'ON', 'OFF', 'OFF', 'OFF', 'OFF', 'ON', 'OFF', 'ON', 'OFF', 'OFF', 'OFF', 'ON', 'ON', 'ON', 'ON', 'OFF', 'ON'], 'relu2': ['OFF', 'OFF', 'ON', 'ON', 'OFF', 'OFF', 'OFF', 'OFF', 'ON', 'OFF', 'OFF', 'ON', 'OFF', 'OFF', 'OFF', 'OFF', 'OFF', 'ON', 'OFF', 'OFF', 'OFF', 'OFF', 'ON', 'ON', 'OFF', 'ON', 'ON', 'OFF', 'ON', 'ON', 'ON', 'ON', 'OFF', 'OFF', 'OFF', 'ON', 'ON', 'OFF', 'ON', 'OFF', 'ON', 'ON', 'OFF', 'OFF', 'OFF', 'OFF', 'OFF', 'OFF', 'OFF', 'ON'], 'relu3': ['OFF', 'OFF', 'OFF', 'ON', 'OFF', 'OFF', 'ON', 'OFF', 'OFF', 'OFF', 'OFF', 'ON', 'OFF', 'OFF', 'OFF', 'OFF', 'ON', 'OFF', 'OFF', 'OFF', 'OFF', 'OFF', 'OFF', 'OFF', 'OFF', 'OFF', 'OFF', 'ON', 'OFF', 'OFF', 'ON', 'OFF', 'OFF', 'ON', 'OFF', 'ON', 'OFF', 'OFF', 'OFF', 'OFF', 'OFF', 'OFF', 'OFF', 'OFF', 'OFF', 'OFF', 'OFF', 'OFF', 'ON', 'ON'], 'relu4': ['OFF', 'OFF', 'OFF', 'OFF', 'OFF', 'ON', 'OFF', 'OFF', 'OFF', 'ON', 'ON', 'OFF', 'OFF', 'OFF', 'OFF', 'OFF', 'OFF', 'OFF', 'OFF', 'OFF', 'OFF', 'OFF', 'OFF', 'ON', 'OFF', 'OFF', 'OFF', 'OFF', 'OFF', 'OFF', 'OFF', 'ON', 'OFF', 'OFF', 'OFF', 'OFF', 'OFF', 'ON', 'OFF', 'OFF', 'OFF', 'ON', 'OFF', 'OFF', 'ON', 'ON', 'OFF', 'ON', 'OFF', 'ON'], 'relu5': ['OFF', 'OFF', 'OFF', 'OFF', 'OFF', 'ON', 'OFF', 'OFF', 'OFF', 'OFF', 'OFF', 'OFF', 'OFF', 'OFF', 'OFF', 'OFF', 'OFF', 'OFF', 'OFF', 'ON', 'ON', 'OFF', 'OFF', 'OFF', 'OFF', 'OFF', 'OFF', 'OFF', 'OFF', 'ON', 'OFF', 'OFF', 'OFF', 'OFF', 'OFF', 'OFF', 'OFF', 'OFF', 'OFF', 'OFF', 'OFF', 'OFF', 'OFF', 'OFF', 'OFF', 'OFF', 'OFF', 'OFF', 'OFF', 'ON']} is an input property for class 3\n",
      "\n",
      "\n",
      "{'relu0': ['OFF', 'ON', 'OFF', 'ON', 'ON', 'ON', 'ON', 'ON', 'OFF', 'ON', 'OFF', 'ON', 'ON', 'OFF', 'ON', 'ON', 'OFF', 'ON', 'ON', 'ON', 'OFF', 'OFF', 'ON', 'OFF', 'OFF', 'OFF', 'OFF', 'ON', 'ON', 'OFF', 'ON', 'OFF', 'OFF', 'ON', 'ON', 'ON', 'OFF', 'ON', 'ON', 'OFF', 'OFF', 'ON', 'ON', 'ON', 'OFF', 'ON', 'ON', 'ON', 'OFF', 'ON'], 'relu1': ['OFF', 'OFF', 'OFF', 'OFF', 'OFF', 'OFF', 'ON', 'ON', 'ON', 'ON', 'OFF', 'ON', 'OFF', 'ON', 'ON', 'ON', 'OFF', 'OFF', 'OFF', 'OFF', 'ON', 'ON', 'OFF', 'OFF', 'OFF', 'OFF', 'OFF', 'ON', 'OFF', 'ON', 'ON', 'OFF', 'ON', 'ON', 'OFF', 'OFF', 'OFF', 'OFF', 'OFF', 'OFF', 'OFF', 'OFF', 'OFF', 'OFF', 'OFF', 'OFF', 'ON', 'OFF', 'ON', 'ON'], 'relu2': ['ON', 'OFF', 'OFF', 'ON', 'OFF', 'OFF', 'ON', 'ON', 'ON', 'OFF', 'ON', 'ON', 'ON', 'OFF', 'OFF', 'OFF', 'ON', 'ON', 'OFF', 'OFF', 'OFF', 'OFF', 'ON', 'OFF', 'OFF', 'ON', 'ON', 'OFF', 'ON', 'OFF', 'ON', 'OFF', 'OFF', 'OFF', 'ON', 'OFF', 'OFF', 'ON', 'ON', 'OFF', 'OFF', 'ON', 'ON', 'OFF', 'OFF', 'OFF', 'OFF', 'OFF', 'ON', 'ON'], 'relu3': ['OFF', 'OFF', 'OFF', 'OFF', 'OFF', 'OFF', 'OFF', 'OFF', 'OFF', 'ON', 'OFF', 'ON', 'OFF', 'ON', 'OFF', 'OFF', 'OFF', 'OFF', 'OFF', 'OFF', 'ON', 'OFF', 'OFF', 'OFF', 'OFF', 'OFF', 'OFF', 'ON', 'OFF', 'OFF', 'OFF', 'OFF', 'ON', 'ON', 'OFF', 'OFF', 'OFF', 'OFF', 'OFF', 'OFF', 'ON', 'OFF', 'OFF', 'OFF', 'OFF', 'OFF', 'OFF', 'OFF', 'ON', 'OFF'], 'relu4': ['OFF', 'OFF', 'OFF', 'OFF', 'OFF', 'ON', 'OFF', 'OFF', 'ON', 'OFF', 'ON', 'OFF', 'OFF', 'OFF', 'OFF', 'OFF', 'OFF', 'ON', 'OFF', 'OFF', 'OFF', 'OFF', 'ON', 'OFF', 'OFF', 'ON', 'OFF', 'OFF', 'OFF', 'OFF', 'OFF', 'ON', 'OFF', 'ON', 'OFF', 'OFF', 'OFF', 'ON', 'OFF', 'OFF', 'OFF', 'ON', 'OFF', 'OFF', 'OFF', 'OFF', 'ON', 'ON', 'OFF', 'OFF'], 'relu5': ['OFF', 'OFF', 'OFF', 'OFF', 'OFF', 'OFF', 'OFF', 'OFF', 'OFF', 'OFF', 'OFF', 'OFF', 'OFF', 'OFF', 'OFF', 'OFF', 'OFF', 'OFF', 'OFF', 'OFF', 'OFF', 'OFF', 'OFF', 'OFF', 'ON', 'OFF', 'OFF', 'OFF', 'OFF', 'OFF', 'OFF', 'OFF', 'OFF', 'OFF', 'OFF', 'OFF', 'OFF', 'OFF', 'OFF', 'OFF', 'OFF', 'OFF', 'OFF', 'OFF', 'OFF', 'ON', 'OFF', 'OFF', 'OFF', 'OFF']} is an input property for class 4\n",
      "\n",
      "\n"
     ]
    }
   ],
   "source": [
    "for y_class in range(5):\n",
    "  activation_pattern = candidates[y_class]\n",
    "  x_ranges = input_ranges[y_class]\n",
    "  specification = specification_for_classes[y_class]\n",
    "  status, counter_example, _, _ = dp.solve(activation_pattern, model, x_ranges, specification)\n",
    "  if status == 'unsat':\n",
    "    print(f\"{activation_pattern} is an input property for class {y_class}\\n\\n\")\n"
   ]
  },
  {
   "cell_type": "markdown",
   "id": "25c2b41c",
   "metadata": {},
   "source": [
    "### 1.2 With Iterative Relaxation"
   ]
  },
  {
   "cell_type": "code",
   "execution_count": null,
   "id": "227df793",
   "metadata": {},
   "outputs": [
    {
     "name": "stdout",
     "output_type": "stream",
     "text": [
      "unconstrained_layer: relu5\n",
      "{'relu0': ['ON', 'OFF', 'OFF', 'OFF', 'OFF', 'OFF', 'ON', 'OFF', 'OFF', 'OFF', 'ON', 'ON', 'OFF', 'OFF', 'ON', 'OFF', 'OFF', 'ON', 'ON', 'OFF', 'OFF', 'OFF', 'OFF', 'OFF', 'OFF', 'OFF', 'OFF', 'OFF', 'OFF', 'OFF', 'ON', 'ON', 'OFF', 'OFF', 'ON', 'ON', 'ON', 'OFF', 'OFF', 'ON', 'ON', 'OFF', 'OFF', 'OFF', 'OFF', 'OFF', 'OFF', 'ON', 'OFF', 'ON'], 'relu1': ['OFF', 'OFF', 'OFF', 'OFF', 'OFF', 'OFF', 'ON', 'OFF', 'OFF', 'OFF', 'OFF', 'OFF', 'OFF', 'OFF', 'OFF', 'OFF', 'OFF', 'OFF', 'OFF', 'ON', 'ON', 'OFF', 'OFF', 'OFF', 'OFF', 'OFF', 'OFF', 'OFF', 'OFF', 'ON', 'OFF', 'OFF', 'OFF', 'OFF', 'OFF', 'OFF', 'OFF', 'OFF', 'OFF', 'OFF', 'ON', 'OFF', 'OFF', 'OFF', 'OFF', 'ON', 'OFF', 'OFF', 'OFF', 'OFF'], 'relu2': ['OFF', 'OFF', 'ON', 'OFF', 'OFF', 'OFF', 'OFF', 'OFF', 'OFF', 'OFF', 'OFF', 'ON', 'OFF', 'ON', 'OFF', 'ON', 'OFF', 'ON', 'OFF', 'OFF', 'OFF', 'OFF', 'ON', 'ON', 'OFF', 'OFF', 'OFF', 'OFF', 'OFF', 'ON', 'OFF', 'ON', 'OFF', 'OFF', 'OFF', 'OFF', 'ON', 'OFF', 'OFF', 'OFF', 'ON', 'ON', 'OFF', 'OFF', 'OFF', 'OFF', 'OFF', 'OFF', 'OFF', 'ON'], 'relu3': ['OFF', 'OFF', 'OFF', 'ON', 'OFF', 'OFF', 'ON', 'OFF', 'OFF', 'OFF', 'OFF', 'ON', 'OFF', 'OFF', 'OFF', 'OFF', 'ON', 'OFF', 'OFF', 'OFF', 'OFF', 'OFF', 'OFF', 'OFF', 'OFF', 'OFF', 'OFF', 'OFF', 'OFF', 'OFF', 'OFF', 'ON', 'ON', 'ON', 'OFF', 'OFF', 'OFF', 'OFF', 'ON', 'OFF', 'ON', 'ON', 'OFF', 'ON', 'ON', 'OFF', 'OFF', 'OFF', 'OFF', 'ON'], 'relu4': ['ON', 'OFF', 'OFF', 'OFF', 'OFF', 'ON', 'OFF', 'OFF', 'OFF', 'OFF', 'ON', 'OFF', 'OFF', 'OFF', 'OFF', 'OFF', 'OFF', 'OFF', 'OFF', 'OFF', 'OFF', 'OFF', 'OFF', 'OFF', 'OFF', 'ON', 'OFF', 'OFF', 'OFF', 'OFF', 'OFF', 'ON', 'OFF', 'ON', 'OFF', 'OFF', 'OFF', 'OFF', 'OFF', 'OFF', 'OFF', 'OFF', 'OFF', 'OFF', 'OFF', 'OFF', 'ON', 'OFF', 'OFF', 'OFF'], 'relu5': ['--', '--', '--', '--', '--', '--', '--', '--', '--', '--', '--', '--', '--', '--', '--', '--', '--', '--', '--', '--', '--', '--', '--', '--', '--', '--', '--', '--', '--', '--', '--', '--', '--', '--', '--', '--', '--', '--', '--', '--', '--', '--', '--', '--', '--', '--', '--', '--', '--', '--']}\n",
      "unconstrained_layer: relu4\n",
      "{'relu0': ['ON', 'OFF', 'OFF', 'OFF', 'OFF', 'OFF', 'ON', 'OFF', 'OFF', 'OFF', 'ON', 'ON', 'OFF', 'OFF', 'ON', 'OFF', 'OFF', 'ON', 'ON', 'OFF', 'OFF', 'OFF', 'OFF', 'OFF', 'OFF', 'OFF', 'OFF', 'OFF', 'OFF', 'OFF', 'ON', 'ON', 'OFF', 'OFF', 'ON', 'ON', 'ON', 'OFF', 'OFF', 'ON', 'ON', 'OFF', 'OFF', 'OFF', 'OFF', 'OFF', 'OFF', 'ON', 'OFF', 'ON'], 'relu1': ['OFF', 'OFF', 'OFF', 'OFF', 'OFF', 'OFF', 'ON', 'OFF', 'OFF', 'OFF', 'OFF', 'OFF', 'OFF', 'OFF', 'OFF', 'OFF', 'OFF', 'OFF', 'OFF', 'ON', 'ON', 'OFF', 'OFF', 'OFF', 'OFF', 'OFF', 'OFF', 'OFF', 'OFF', 'ON', 'OFF', 'OFF', 'OFF', 'OFF', 'OFF', 'OFF', 'OFF', 'OFF', 'OFF', 'OFF', 'ON', 'OFF', 'OFF', 'OFF', 'OFF', 'ON', 'OFF', 'OFF', 'OFF', 'OFF'], 'relu2': ['OFF', 'OFF', 'ON', 'OFF', 'OFF', 'OFF', 'OFF', 'OFF', 'OFF', 'OFF', 'OFF', 'ON', 'OFF', 'ON', 'OFF', 'ON', 'OFF', 'ON', 'OFF', 'OFF', 'OFF', 'OFF', 'ON', 'ON', 'OFF', 'OFF', 'OFF', 'OFF', 'OFF', 'ON', 'OFF', 'ON', 'OFF', 'OFF', 'OFF', 'OFF', 'ON', 'OFF', 'OFF', 'OFF', 'ON', 'ON', 'OFF', 'OFF', 'OFF', 'OFF', 'OFF', 'OFF', 'OFF', 'ON'], 'relu3': ['OFF', 'OFF', 'OFF', 'ON', 'OFF', 'OFF', 'ON', 'OFF', 'OFF', 'OFF', 'OFF', 'ON', 'OFF', 'OFF', 'OFF', 'OFF', 'ON', 'OFF', 'OFF', 'OFF', 'OFF', 'OFF', 'OFF', 'OFF', 'OFF', 'OFF', 'OFF', 'OFF', 'OFF', 'OFF', 'OFF', 'ON', 'ON', 'ON', 'OFF', 'OFF', 'OFF', 'OFF', 'ON', 'OFF', 'ON', 'ON', 'OFF', 'ON', 'ON', 'OFF', 'OFF', 'OFF', 'OFF', 'ON'], 'relu4': ['--', '--', '--', '--', '--', '--', '--', '--', '--', '--', '--', '--', '--', '--', '--', '--', '--', '--', '--', '--', '--', '--', '--', '--', '--', '--', '--', '--', '--', '--', '--', '--', '--', '--', '--', '--', '--', '--', '--', '--', '--', '--', '--', '--', '--', '--', '--', '--', '--', '--'], 'relu5': ['--', '--', '--', '--', '--', '--', '--', '--', '--', '--', '--', '--', '--', '--', '--', '--', '--', '--', '--', '--', '--', '--', '--', '--', '--', '--', '--', '--', '--', '--', '--', '--', '--', '--', '--', '--', '--', '--', '--', '--', '--', '--', '--', '--', '--', '--', '--', '--', '--', '--']}\n",
      "unconstrained_layer: relu3\n",
      "{'relu0': ['ON', 'OFF', 'OFF', 'OFF', 'OFF', 'OFF', 'ON', 'OFF', 'OFF', 'OFF', 'ON', 'ON', 'OFF', 'OFF', 'ON', 'OFF', 'OFF', 'ON', 'ON', 'OFF', 'OFF', 'OFF', 'OFF', 'OFF', 'OFF', 'OFF', 'OFF', 'OFF', 'OFF', 'OFF', 'ON', 'ON', 'OFF', 'OFF', 'ON', 'ON', 'ON', 'OFF', 'OFF', 'ON', 'ON', 'OFF', 'OFF', 'OFF', 'OFF', 'OFF', 'OFF', 'ON', 'OFF', 'ON'], 'relu1': ['OFF', 'OFF', 'OFF', 'OFF', 'OFF', 'OFF', 'ON', 'OFF', 'OFF', 'OFF', 'OFF', 'OFF', 'OFF', 'OFF', 'OFF', 'OFF', 'OFF', 'OFF', 'OFF', 'ON', 'ON', 'OFF', 'OFF', 'OFF', 'OFF', 'OFF', 'OFF', 'OFF', 'OFF', 'ON', 'OFF', 'OFF', 'OFF', 'OFF', 'OFF', 'OFF', 'OFF', 'OFF', 'OFF', 'OFF', 'ON', 'OFF', 'OFF', 'OFF', 'OFF', 'ON', 'OFF', 'OFF', 'OFF', 'OFF'], 'relu2': ['OFF', 'OFF', 'ON', 'OFF', 'OFF', 'OFF', 'OFF', 'OFF', 'OFF', 'OFF', 'OFF', 'ON', 'OFF', 'ON', 'OFF', 'ON', 'OFF', 'ON', 'OFF', 'OFF', 'OFF', 'OFF', 'ON', 'ON', 'OFF', 'OFF', 'OFF', 'OFF', 'OFF', 'ON', 'OFF', 'ON', 'OFF', 'OFF', 'OFF', 'OFF', 'ON', 'OFF', 'OFF', 'OFF', 'ON', 'ON', 'OFF', 'OFF', 'OFF', 'OFF', 'OFF', 'OFF', 'OFF', 'ON'], 'relu3': ['--', '--', '--', '--', '--', '--', '--', '--', '--', '--', '--', '--', '--', '--', '--', '--', '--', '--', '--', '--', '--', '--', '--', '--', '--', '--', '--', '--', '--', '--', '--', '--', '--', '--', '--', '--', '--', '--', '--', '--', '--', '--', '--', '--', '--', '--', '--', '--', '--', '--'], 'relu4': ['--', '--', '--', '--', '--', '--', '--', '--', '--', '--', '--', '--', '--', '--', '--', '--', '--', '--', '--', '--', '--', '--', '--', '--', '--', '--', '--', '--', '--', '--', '--', '--', '--', '--', '--', '--', '--', '--', '--', '--', '--', '--', '--', '--', '--', '--', '--', '--', '--', '--'], 'relu5': ['--', '--', '--', '--', '--', '--', '--', '--', '--', '--', '--', '--', '--', '--', '--', '--', '--', '--', '--', '--', '--', '--', '--', '--', '--', '--', '--', '--', '--', '--', '--', '--', '--', '--', '--', '--', '--', '--', '--', '--', '--', '--', '--', '--', '--', '--', '--', '--', '--', '--']}\n",
      "Critical layer found: 3\n",
      "--- unconstraining neuron 0 in critical layer\n",
      "--- unconstraining neuron 1 in critical layer\n",
      "--- unconstraining neuron 2 in critical layer\n",
      "--- unconstraining neuron 3 in critical layer\n",
      "--- unconstraining neuron 4 in critical layer\n",
      "--- unconstraining neuron 5 in critical layer\n",
      "--- unconstraining neuron 6 in critical layer\n",
      "--- unconstraining neuron 7 in critical layer\n",
      "--- unconstraining neuron 8 in critical layer\n",
      "--- unconstraining neuron 9 in critical layer\n",
      "--- unconstraining neuron 10 in critical layer\n",
      "--- unconstraining neuron 11 in critical layer\n",
      "--- unconstraining neuron 12 in critical layer\n",
      "--- unconstraining neuron 13 in critical layer\n",
      "--- unconstraining neuron 14 in critical layer\n",
      "--- unconstraining neuron 15 in critical layer\n",
      "--- unconstraining neuron 16 in critical layer\n",
      "--- unconstraining neuron 17 in critical layer\n",
      "--- unconstraining neuron 18 in critical layer\n",
      "--- unconstraining neuron 19 in critical layer\n",
      "--- unconstraining neuron 20 in critical layer\n",
      "--- unconstraining neuron 21 in critical layer\n",
      "--- unconstraining neuron 22 in critical layer\n",
      "--- unconstraining neuron 23 in critical layer\n",
      "--- unconstraining neuron 24 in critical layer\n",
      "--- unconstraining neuron 25 in critical layer\n",
      "--- unconstraining neuron 26 in critical layer\n",
      "--- unconstraining neuron 27 in critical layer\n",
      "--- neuron needed\n",
      "--- unconstraining neuron 28 in critical layer\n",
      "--- unconstraining neuron 29 in critical layer\n",
      "--- unconstraining neuron 30 in critical layer\n",
      "--- unconstraining neuron 31 in critical layer\n",
      "--- unconstraining neuron 32 in critical layer\n",
      "--- unconstraining neuron 33 in critical layer\n",
      "--- neuron needed\n",
      "--- unconstraining neuron 34 in critical layer\n",
      "--- unconstraining neuron 35 in critical layer\n",
      "--- unconstraining neuron 36 in critical layer\n",
      "--- unconstraining neuron 37 in critical layer\n",
      "--- unconstraining neuron 38 in critical layer\n",
      "--- unconstraining neuron 39 in critical layer\n",
      "--- unconstraining neuron 40 in critical layer\n",
      "--- unconstraining neuron 41 in critical layer\n",
      "--- unconstraining neuron 42 in critical layer\n"
     ]
    },
    {
     "name": "stdout",
     "output_type": "stream",
     "text": [
      "--- unconstraining neuron 43 in critical layer\n",
      "--- neuron needed\n",
      "--- unconstraining neuron 44 in critical layer\n",
      "--- unconstraining neuron 45 in critical layer\n",
      "--- neuron needed\n",
      "--- unconstraining neuron 46 in critical layer\n",
      "--- unconstraining neuron 47 in critical layer\n"
     ]
    }
   ],
   "source": [
    "iterative_relaxation = IterativeRelaxation()\n",
    "\n",
    "for y_class in range(5):\n",
    "  x_ranges = input_ranges[y_class]\n",
    "  input_sample = np.array([samples[y_class]])\n",
    "  specification = specification_for_classes[y_class]\n",
    "  input_property = iterative_relaxation.call(model, input_sample, x_ranges, specification)\n",
    "  print(f\"input property for class {y_class}: {input_property}\\n\\n\")"
   ]
  },
  {
   "cell_type": "markdown",
   "id": "ddc856c0",
   "metadata": {},
   "source": [
    "## 2. Layer patterns as interpolants"
   ]
  },
  {
   "cell_type": "markdown",
   "id": "e724bab6",
   "metadata": {},
   "source": [
    "### 2.1 Find candidates with Decision Tree"
   ]
  },
  {
   "cell_type": "code",
   "execution_count": null,
   "id": "38c79d0f",
   "metadata": {},
   "outputs": [],
   "source": [
    "# relu_layers = ['relu0', 'relu1', 'relu2', 'relu3', 'relu4']\n",
    "# labels = [0,1,2,3,4]\n",
    "# for name, module in list(model.named_modules()):\n",
    "#   if isinstance(module, torch.nn.ReLU):\n",
    "#     relu_layers.append(name)\n",
    "# relu_layers"
   ]
  },
  {
   "cell_type": "code",
   "execution_count": null,
   "id": "5d6ec7e0",
   "metadata": {},
   "outputs": [],
   "source": [
    "# for layer_name in relu_layers: \n",
    "#   for chosen_label in [0,1,2,3,4]:\n",
    "#     df['satisfies_postcon'] = np.where(df['predicted_label'] == chosen_label, 1, -1)\n",
    "#     decision_tree = DecisionTree(df, X_col=layer_name, Y_col=\"satisfies_postcon\")\n",
    "#     leaves_with_activation_pattern = decision_tree.get_potential_layer_properties()"
   ]
  },
  {
   "cell_type": "code",
   "execution_count": null,
   "id": "ecbcbf3f",
   "metadata": {},
   "outputs": [],
   "source": [
    "# df['satisfies_postcon'] = np.where(df['predicted_label'] == 3, 1, -1)\n",
    "# decision_tree = DecisionTree(df, X_col='relu4', Y_col=\"satisfies_postcon\")\n",
    "# leaves_with_activation_pattern = decision_tree.get_potential_layer_properties()\n",
    "\n",
    "# num_of_patterns = len(leaves_with_activation_pattern)\n",
    "# print(f\"num_of_patterns: {num_of_patterns}\")\n",
    "\n",
    "# total_support = sum(candidate['support'] for candidate in leaves_with_activation_pattern)\n",
    "# print(f\"total_support: {total_support}\")\n",
    "\n",
    "# top_5_supports = [candidate['support'] for candidate in leaves_with_activation_pattern[:5]]\n",
    "# print(f\"top_5_supports: {top_5_supports}\")"
   ]
  }
 ],
 "metadata": {
  "kernelspec": {
   "display_name": "Python 3 (ipykernel)",
   "language": "python",
   "name": "python3"
  },
  "language_info": {
   "codemirror_mode": {
    "name": "ipython",
    "version": 3
   },
   "file_extension": ".py",
   "mimetype": "text/x-python",
   "name": "python",
   "nbconvert_exporter": "python",
   "pygments_lexer": "ipython3",
   "version": "3.10.9"
  }
 },
 "nbformat": 4,
 "nbformat_minor": 5
}
